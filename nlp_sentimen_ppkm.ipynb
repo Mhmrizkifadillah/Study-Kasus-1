{
  "cells": [
    {
      "cell_type": "markdown",
      "metadata": {
        "id": "view-in-github",
        "colab_type": "text"
      },
      "source": [
        "<a href=\"https://colab.research.google.com/github/Mhmrizkifadillah/Study-Kasus-1/blob/main/nlp_sentimen_ppkm.ipynb\" target=\"_parent\"><img src=\"https://colab.research.google.com/assets/colab-badge.svg\" alt=\"Open In Colab\"/></a>"
      ]
    },
    {
      "cell_type": "code",
      "execution_count": null,
      "id": "5831f9d2",
      "metadata": {
        "_cell_guid": "b1076dfc-b9ad-4769-8c92-a6c4dae69d19",
        "_uuid": "8f2839f25d086af736a60e9eeb907d3b93b6e0e5",
        "execution": {
          "iopub.execute_input": "2023-11-15T05:53:30.056158Z",
          "iopub.status.busy": "2023-11-15T05:53:30.055565Z",
          "iopub.status.idle": "2023-11-15T05:53:31.919013Z",
          "shell.execute_reply": "2023-11-15T05:53:31.917626Z"
        },
        "papermill": {
          "duration": 1.882018,
          "end_time": "2023-11-15T05:53:31.921921",
          "exception": false,
          "start_time": "2023-11-15T05:53:30.039903",
          "status": "completed"
        },
        "tags": [],
        "id": "5831f9d2",
        "outputId": "2f857833-736b-4446-f0e9-911ac3609ad5"
      },
      "outputs": [
        {
          "name": "stdout",
          "output_type": "stream",
          "text": [
            "/kaggle/input/datasetppkmmikro/dataset.csv\n"
          ]
        }
      ],
      "source": [
        "\n",
        "import numpy as np\n",
        "import pandas as pd\n",
        "\n",
        "import matplotlib.pyplot as plt\n",
        "import seaborn as sns\n",
        "sns.set()\n",
        "\n",
        "import os\n",
        "for dirname, _, filenames in os.walk('/kaggle/input'):\n",
        "    for filename in filenames:\n",
        "        print(os.path.join(dirname, filename))"
      ]
    },
    {
      "cell_type": "code",
      "execution_count": null,
      "id": "bbe26b47",
      "metadata": {
        "execution": {
          "iopub.execute_input": "2023-11-15T05:53:31.950360Z",
          "iopub.status.busy": "2023-11-15T05:53:31.949689Z",
          "iopub.status.idle": "2023-11-15T05:53:31.994429Z",
          "shell.execute_reply": "2023-11-15T05:53:31.993424Z"
        },
        "papermill": {
          "duration": 0.061909,
          "end_time": "2023-11-15T05:53:31.997003",
          "exception": false,
          "start_time": "2023-11-15T05:53:31.935094",
          "status": "completed"
        },
        "tags": [],
        "id": "bbe26b47",
        "outputId": "577cf404-ab48-4047-de66-7dd1f3e40e63"
      },
      "outputs": [
        {
          "data": {
            "text/html": [
              "<div>\n",
              "<style scoped>\n",
              "    .dataframe tbody tr th:only-of-type {\n",
              "        vertical-align: middle;\n",
              "    }\n",
              "\n",
              "    .dataframe tbody tr th {\n",
              "        vertical-align: top;\n",
              "    }\n",
              "\n",
              "    .dataframe thead th {\n",
              "        text-align: right;\n",
              "    }\n",
              "</style>\n",
              "<table border=\"1\" class=\"dataframe\">\n",
              "  <thead>\n",
              "    <tr style=\"text-align: right;\">\n",
              "      <th></th>\n",
              "      <th>0</th>\n",
              "      <th>\"Obat nganggur adalah berkumpul dan mengobrol, setelah dari itu......nganggur lagi\" #PelanggarPSBB #astagfiraullah #pemudabiasaaja</th>\n",
              "    </tr>\n",
              "  </thead>\n",
              "  <tbody>\n",
              "    <tr>\n",
              "      <th>0</th>\n",
              "      <td>0</td>\n",
              "      <td>#kerumunan #VaksinasiNasional https://t.co/mG8...</td>\n",
              "    </tr>\n",
              "    <tr>\n",
              "      <th>1</th>\n",
              "      <td>0</td>\n",
              "      <td>#langgarPSBB ! Suka melihat rakyat jelata berk...</td>\n",
              "    </tr>\n",
              "    <tr>\n",
              "      <th>2</th>\n",
              "      <td>0</td>\n",
              "      <td>#LanggarPSBB #Ngamuk Setelah cekcok, kemudian ...</td>\n",
              "    </tr>\n",
              "    <tr>\n",
              "      <th>3</th>\n",
              "      <td>0</td>\n",
              "      <td>#pelanggarpsbb Tidak Menggunakan masker di Jl ...</td>\n",
              "    </tr>\n",
              "    <tr>\n",
              "      <th>4</th>\n",
              "      <td>0</td>\n",
              "      <td>#penikmatsenja #pecandusenja #bebascorona #mas...</td>\n",
              "    </tr>\n",
              "  </tbody>\n",
              "</table>\n",
              "</div>"
            ],
            "text/plain": [
              "   0  \\\n",
              "0  0   \n",
              "1  0   \n",
              "2  0   \n",
              "3  0   \n",
              "4  0   \n",
              "\n",
              "  \"Obat nganggur adalah berkumpul dan mengobrol, setelah dari itu......nganggur lagi\" #PelanggarPSBB #astagfiraullah #pemudabiasaaja  \n",
              "0  #kerumunan #VaksinasiNasional https://t.co/mG8...                                                                                  \n",
              "1  #langgarPSBB ! Suka melihat rakyat jelata berk...                                                                                  \n",
              "2  #LanggarPSBB #Ngamuk Setelah cekcok, kemudian ...                                                                                  \n",
              "3  #pelanggarpsbb Tidak Menggunakan masker di Jl ...                                                                                  \n",
              "4  #penikmatsenja #pecandusenja #bebascorona #mas...                                                                                  "
            ]
          },
          "execution_count": 2,
          "metadata": {},
          "output_type": "execute_result"
        }
      ],
      "source": [
        "# buat dataframe\n",
        "ppkm = pd.read_csv('/kaggle/input/datasetppkmmikro/dataset.csv')\n",
        "\n",
        "# tampilkan 5 data teratas\n",
        "ppkm.head()"
      ]
    },
    {
      "cell_type": "code",
      "execution_count": null,
      "id": "cd08a9f9",
      "metadata": {
        "execution": {
          "iopub.execute_input": "2023-11-15T05:53:32.026471Z",
          "iopub.status.busy": "2023-11-15T05:53:32.025785Z",
          "iopub.status.idle": "2023-11-15T05:53:32.043914Z",
          "shell.execute_reply": "2023-11-15T05:53:32.042461Z"
        },
        "papermill": {
          "duration": 0.035551,
          "end_time": "2023-11-15T05:53:32.046570",
          "exception": false,
          "start_time": "2023-11-15T05:53:32.011019",
          "status": "completed"
        },
        "tags": [],
        "id": "cd08a9f9",
        "outputId": "94ef744e-ca3d-42d1-c6a2-2946de49261e"
      },
      "outputs": [
        {
          "data": {
            "text/html": [
              "<div>\n",
              "<style scoped>\n",
              "    .dataframe tbody tr th:only-of-type {\n",
              "        vertical-align: middle;\n",
              "    }\n",
              "\n",
              "    .dataframe tbody tr th {\n",
              "        vertical-align: top;\n",
              "    }\n",
              "\n",
              "    .dataframe thead th {\n",
              "        text-align: right;\n",
              "    }\n",
              "</style>\n",
              "<table border=\"1\" class=\"dataframe\">\n",
              "  <thead>\n",
              "    <tr style=\"text-align: right;\">\n",
              "      <th></th>\n",
              "      <th>sentimen</th>\n",
              "      <th>narasi</th>\n",
              "    </tr>\n",
              "  </thead>\n",
              "  <tbody>\n",
              "    <tr>\n",
              "      <th>0</th>\n",
              "      <td>0</td>\n",
              "      <td>\"Obat nganggur adalah berkumpul dan mengobrol,...</td>\n",
              "    </tr>\n",
              "    <tr>\n",
              "      <th>1</th>\n",
              "      <td>0</td>\n",
              "      <td>#kerumunan #VaksinasiNasional https://t.co/mG8...</td>\n",
              "    </tr>\n",
              "    <tr>\n",
              "      <th>2</th>\n",
              "      <td>0</td>\n",
              "      <td>#langgarPSBB ! Suka melihat rakyat jelata berk...</td>\n",
              "    </tr>\n",
              "    <tr>\n",
              "      <th>3</th>\n",
              "      <td>0</td>\n",
              "      <td>#LanggarPSBB #Ngamuk Setelah cekcok, kemudian ...</td>\n",
              "    </tr>\n",
              "    <tr>\n",
              "      <th>4</th>\n",
              "      <td>0</td>\n",
              "      <td>#pelanggarpsbb Tidak Menggunakan masker di Jl ...</td>\n",
              "    </tr>\n",
              "  </tbody>\n",
              "</table>\n",
              "</div>"
            ],
            "text/plain": [
              "   sentimen                                             narasi\n",
              "0         0  \"Obat nganggur adalah berkumpul dan mengobrol,...\n",
              "1         0  #kerumunan #VaksinasiNasional https://t.co/mG8...\n",
              "2         0  #langgarPSBB ! Suka melihat rakyat jelata berk...\n",
              "3         0  #LanggarPSBB #Ngamuk Setelah cekcok, kemudian ...\n",
              "4         0  #pelanggarpsbb Tidak Menggunakan masker di Jl ..."
            ]
          },
          "execution_count": 3,
          "metadata": {},
          "output_type": "execute_result"
        }
      ],
      "source": [
        "# ubah header dataframe\n",
        "ppkm = pd.read_csv('/kaggle/input/datasetppkmmikro/dataset.csv', header=None)\n",
        "ppkm.columns = ['sentimen', 'narasi']\n",
        "\n",
        "# tampilkan 5 data teratas\n",
        "ppkm.head()"
      ]
    },
    {
      "cell_type": "code",
      "execution_count": null,
      "id": "72e74455",
      "metadata": {
        "execution": {
          "iopub.execute_input": "2023-11-15T05:53:32.075747Z",
          "iopub.status.busy": "2023-11-15T05:53:32.075270Z",
          "iopub.status.idle": "2023-11-15T05:53:32.083388Z",
          "shell.execute_reply": "2023-11-15T05:53:32.082105Z"
        },
        "papermill": {
          "duration": 0.026252,
          "end_time": "2023-11-15T05:53:32.086217",
          "exception": false,
          "start_time": "2023-11-15T05:53:32.059965",
          "status": "completed"
        },
        "tags": [],
        "id": "72e74455",
        "outputId": "e3cc0a97-aaf2-45c1-b42d-9bb3d000a7de"
      },
      "outputs": [
        {
          "data": {
            "text/plain": [
              "'#langgarPSBB ! Suka melihat rakyat jelata berkejaran memperebutkan sembakonya...waham kebesaran!'"
            ]
          },
          "execution_count": 4,
          "metadata": {},
          "output_type": "execute_result"
        }
      ],
      "source": [
        "ppkm['narasi'][2]"
      ]
    },
    {
      "cell_type": "code",
      "execution_count": null,
      "id": "07576fb2",
      "metadata": {
        "execution": {
          "iopub.execute_input": "2023-11-15T05:53:32.115230Z",
          "iopub.status.busy": "2023-11-15T05:53:32.114786Z",
          "iopub.status.idle": "2023-11-15T05:53:32.122644Z",
          "shell.execute_reply": "2023-11-15T05:53:32.121393Z"
        },
        "papermill": {
          "duration": 0.025607,
          "end_time": "2023-11-15T05:53:32.125158",
          "exception": false,
          "start_time": "2023-11-15T05:53:32.099551",
          "status": "completed"
        },
        "tags": [],
        "id": "07576fb2",
        "outputId": "f85e7f57-6bd1-489c-ba97-8a4d3b165bc2"
      },
      "outputs": [
        {
          "data": {
            "text/plain": [
              "(625, 2)"
            ]
          },
          "execution_count": 5,
          "metadata": {},
          "output_type": "execute_result"
        }
      ],
      "source": [
        "# Melihat dimensi data\n",
        "ppkm.shape"
      ]
    },
    {
      "cell_type": "code",
      "execution_count": null,
      "id": "73a45661",
      "metadata": {
        "execution": {
          "iopub.execute_input": "2023-11-15T05:53:32.153988Z",
          "iopub.status.busy": "2023-11-15T05:53:32.153520Z",
          "iopub.status.idle": "2023-11-15T05:53:32.168859Z",
          "shell.execute_reply": "2023-11-15T05:53:32.168025Z"
        },
        "papermill": {
          "duration": 0.032548,
          "end_time": "2023-11-15T05:53:32.170924",
          "exception": false,
          "start_time": "2023-11-15T05:53:32.138376",
          "status": "completed"
        },
        "tags": [],
        "id": "73a45661",
        "outputId": "42a4fdf4-bda2-473a-ca75-73f537d7b224"
      },
      "outputs": [
        {
          "data": {
            "text/plain": [
              "sentimen\n",
              "0    209\n",
              "1    209\n",
              "2    207\n",
              "Name: count, dtype: int64"
            ]
          },
          "execution_count": 6,
          "metadata": {},
          "output_type": "execute_result"
        }
      ],
      "source": [
        "# Melihat sentimen dan jumlahnya\n",
        "ppkm['sentimen'].value_counts()"
      ]
    },
    {
      "cell_type": "code",
      "execution_count": null,
      "id": "e34ad14d",
      "metadata": {
        "execution": {
          "iopub.execute_input": "2023-11-15T05:53:32.200085Z",
          "iopub.status.busy": "2023-11-15T05:53:32.199338Z",
          "iopub.status.idle": "2023-11-15T05:53:32.217807Z",
          "shell.execute_reply": "2023-11-15T05:53:32.216644Z"
        },
        "papermill": {
          "duration": 0.035911,
          "end_time": "2023-11-15T05:53:32.220172",
          "exception": false,
          "start_time": "2023-11-15T05:53:32.184261",
          "status": "completed"
        },
        "tags": [],
        "id": "e34ad14d",
        "outputId": "050c476a-e471-4136-a7e9-0fd8e82d7ada"
      },
      "outputs": [
        {
          "data": {
            "text/html": [
              "<div>\n",
              "<style scoped>\n",
              "    .dataframe tbody tr th:only-of-type {\n",
              "        vertical-align: middle;\n",
              "    }\n",
              "\n",
              "    .dataframe tbody tr th {\n",
              "        vertical-align: top;\n",
              "    }\n",
              "\n",
              "    .dataframe thead th {\n",
              "        text-align: right;\n",
              "    }\n",
              "</style>\n",
              "<table border=\"1\" class=\"dataframe\">\n",
              "  <thead>\n",
              "    <tr style=\"text-align: right;\">\n",
              "      <th></th>\n",
              "      <th>sentimen</th>\n",
              "      <th>narasi</th>\n",
              "    </tr>\n",
              "  </thead>\n",
              "  <tbody>\n",
              "    <tr>\n",
              "      <th>87</th>\n",
              "      <td>Negatif</td>\n",
              "      <td>Kebijakan yg menyengsarakan rakyat swasta / ra...</td>\n",
              "    </tr>\n",
              "    <tr>\n",
              "      <th>224</th>\n",
              "      <td>Netral</td>\n",
              "      <td>Ayo luurr, nderek Pemerintah mawon, ojo lali N...</td>\n",
              "    </tr>\n",
              "    <tr>\n",
              "      <th>504</th>\n",
              "      <td>Positif</td>\n",
              "      <td>Mulai tgl 11 Maret, bak PPKM. Waktu diberlakuk...</td>\n",
              "    </tr>\n",
              "    <tr>\n",
              "      <th>453</th>\n",
              "      <td>Positif</td>\n",
              "      <td>coba sekali-kali di demo ,apa tanggapan mereka</td>\n",
              "    </tr>\n",
              "    <tr>\n",
              "      <th>232</th>\n",
              "      <td>Netral</td>\n",
              "      <td>Bhabinkambmas Desa Ngasinan Aiptu Bambang ADT ...</td>\n",
              "    </tr>\n",
              "    <tr>\n",
              "      <th>544</th>\n",
              "      <td>Positif</td>\n",
              "      <td>PSBB..PPKM.. PPKM MIKRO... Banyak banget istil...</td>\n",
              "    </tr>\n",
              "    <tr>\n",
              "      <th>58</th>\n",
              "      <td>Negatif</td>\n",
              "      <td>Gajian tetep penuh, ga kepotong gara-gara omse...</td>\n",
              "    </tr>\n",
              "    <tr>\n",
              "      <th>160</th>\n",
              "      <td>Negatif</td>\n",
              "      <td>RT @jpnncom: Tiga provinsi yang tak menjalanka...</td>\n",
              "    </tr>\n",
              "    <tr>\n",
              "      <th>111</th>\n",
              "      <td>Negatif</td>\n",
              "      <td>MANTAB SEMOGA PADA KAPOK‼️‼️‼️💥💥\\n#PPKM\\n#Vaks...</td>\n",
              "    </tr>\n",
              "    <tr>\n",
              "      <th>176</th>\n",
              "      <td>Negatif</td>\n",
              "      <td>Suwe2 modyar kabeh...dudu kena korona tapi krn...</td>\n",
              "    </tr>\n",
              "  </tbody>\n",
              "</table>\n",
              "</div>"
            ],
            "text/plain": [
              "    sentimen                                             narasi\n",
              "87   Negatif  Kebijakan yg menyengsarakan rakyat swasta / ra...\n",
              "224   Netral  Ayo luurr, nderek Pemerintah mawon, ojo lali N...\n",
              "504  Positif  Mulai tgl 11 Maret, bak PPKM. Waktu diberlakuk...\n",
              "453  Positif     coba sekali-kali di demo ,apa tanggapan mereka\n",
              "232   Netral  Bhabinkambmas Desa Ngasinan Aiptu Bambang ADT ...\n",
              "544  Positif  PSBB..PPKM.. PPKM MIKRO... Banyak banget istil...\n",
              "58   Negatif  Gajian tetep penuh, ga kepotong gara-gara omse...\n",
              "160  Negatif  RT @jpnncom: Tiga provinsi yang tak menjalanka...\n",
              "111  Negatif  MANTAB SEMOGA PADA KAPOK‼️‼️‼️💥💥\\n#PPKM\\n#Vaks...\n",
              "176  Negatif  Suwe2 modyar kabeh...dudu kena korona tapi krn..."
            ]
          },
          "execution_count": 7,
          "metadata": {},
          "output_type": "execute_result"
        }
      ],
      "source": [
        "# labelisasi sentimen\n",
        "label_to_sentimen = {0:\"Negatif\", 1:\"Netral\", 2:\"Positif\"}\n",
        "\n",
        "def label_decoder(label):\n",
        "    return label_to_sentimen[label]\n",
        "\n",
        "ppkm['sentimen'] = ppkm['sentimen'].apply(lambda x: label_decoder(x))\n",
        "\n",
        "ppkm.sample(10)"
      ]
    },
    {
      "cell_type": "code",
      "execution_count": null,
      "id": "d546ca11",
      "metadata": {
        "execution": {
          "iopub.execute_input": "2023-11-15T05:53:32.250093Z",
          "iopub.status.busy": "2023-11-15T05:53:32.249643Z",
          "iopub.status.idle": "2023-11-15T05:53:33.390935Z",
          "shell.execute_reply": "2023-11-15T05:53:33.389761Z"
        },
        "papermill": {
          "duration": 1.159731,
          "end_time": "2023-11-15T05:53:33.394090",
          "exception": false,
          "start_time": "2023-11-15T05:53:32.234359",
          "status": "completed"
        },
        "tags": [],
        "id": "d546ca11",
        "outputId": "809442e2-bf9f-4119-e771-21a95a4dbab4"
      },
      "outputs": [
        {
          "name": "stdout",
          "output_type": "stream",
          "text": [
            "[nltk_data] Downloading package stopwords to /usr/share/nltk_data...\n",
            "[nltk_data]   Package stopwords is already up-to-date!\n"
          ]
        }
      ],
      "source": [
        "# import Natural Language Toolkit\n",
        "import nltk\n",
        "nltk.download('stopwords')\n",
        "from nltk.corpus import stopwords\n",
        "\n",
        "stop_words = stopwords.words('indonesian')\n",
        "\n",
        "# menambahkan stopword manual\n",
        "stop_words.extend([\"yg\", \"dg\", \"rt\", \"dgn\", \"ny\", \"d\", 'klo',\n",
        "                   'kalo', 'amp', 'biar', 'bikin', 'bilang',\n",
        "                   'gak', 'ga', 'krn', 'nya', 'nih', 'sih',\n",
        "                   'si', 'tau', 'tdk', 'tuh', 'utk', 'ya',\n",
        "                   'jd', 'jgn', 'sdh', 'aja', 'n', 't',\n",
        "                   'nyg', 'hehe', 'pen', 'u', 'nan', 'loh', 'rt',\n",
        "                   '&amp', 'yah'])"
      ]
    },
    {
      "cell_type": "code",
      "execution_count": null,
      "id": "9e3aaf44",
      "metadata": {
        "execution": {
          "iopub.execute_input": "2023-11-15T05:53:33.424916Z",
          "iopub.status.busy": "2023-11-15T05:53:33.424468Z",
          "iopub.status.idle": "2023-11-15T05:53:49.874003Z",
          "shell.execute_reply": "2023-11-15T05:53:49.872575Z"
        },
        "papermill": {
          "duration": 16.468805,
          "end_time": "2023-11-15T05:53:49.877321",
          "exception": false,
          "start_time": "2023-11-15T05:53:33.408516",
          "status": "completed"
        },
        "tags": [],
        "id": "9e3aaf44",
        "outputId": "a82e5472-406e-454f-f396-9c1fccb45b12"
      },
      "outputs": [
        {
          "name": "stdout",
          "output_type": "stream",
          "text": [
            "Collecting Sastrawi\r\n",
            "  Downloading Sastrawi-1.0.1-py2.py3-none-any.whl (209 kB)\r\n",
            "\u001b[2K     \u001b[90m━━━━━━━━━━━━━━━━━━━━━━━━━━━━━━━━━━━━━━━\u001b[0m \u001b[32m209.7/209.7 kB\u001b[0m \u001b[31m5.4 MB/s\u001b[0m eta \u001b[36m0:00:00\u001b[0m\r\n",
            "\u001b[?25hInstalling collected packages: Sastrawi\r\n",
            "Successfully installed Sastrawi-1.0.1\r\n"
          ]
        }
      ],
      "source": [
        "# install sastrawi (Natural Language Toolkit untuk bahasa indonesia)\n",
        "!pip install Sastrawi"
      ]
    },
    {
      "cell_type": "code",
      "execution_count": null,
      "id": "6328a727",
      "metadata": {
        "execution": {
          "iopub.execute_input": "2023-11-15T05:53:49.910080Z",
          "iopub.status.busy": "2023-11-15T05:53:49.908545Z",
          "iopub.status.idle": "2023-11-15T05:53:49.957036Z",
          "shell.execute_reply": "2023-11-15T05:53:49.955206Z"
        },
        "papermill": {
          "duration": 0.067916,
          "end_time": "2023-11-15T05:53:49.960082",
          "exception": false,
          "start_time": "2023-11-15T05:53:49.892166",
          "status": "completed"
        },
        "tags": [],
        "id": "6328a727"
      },
      "outputs": [],
      "source": [
        "# stemming\n",
        "from Sastrawi.Stemmer.StemmerFactory import StemmerFactory\n",
        "\n",
        "factory = StemmerFactory()\n",
        "stemmer = factory.create_stemmer()"
      ]
    },
    {
      "cell_type": "code",
      "execution_count": null,
      "id": "88f9d4ab",
      "metadata": {
        "execution": {
          "iopub.execute_input": "2023-11-15T05:53:50.073264Z",
          "iopub.status.busy": "2023-11-15T05:53:50.072825Z",
          "iopub.status.idle": "2023-11-15T05:53:50.245814Z",
          "shell.execute_reply": "2023-11-15T05:53:50.244535Z"
        },
        "papermill": {
          "duration": 0.191912,
          "end_time": "2023-11-15T05:53:50.248739",
          "exception": false,
          "start_time": "2023-11-15T05:53:50.056827",
          "status": "completed"
        },
        "tags": [],
        "id": "88f9d4ab",
        "outputId": "29fc215a-d5e5-451c-e833-ea1c4fb07f0d"
      },
      "outputs": [
        {
          "data": {
            "text/html": [
              "<div>\n",
              "<style scoped>\n",
              "    .dataframe tbody tr th:only-of-type {\n",
              "        vertical-align: middle;\n",
              "    }\n",
              "\n",
              "    .dataframe tbody tr th {\n",
              "        vertical-align: top;\n",
              "    }\n",
              "\n",
              "    .dataframe thead th {\n",
              "        text-align: right;\n",
              "    }\n",
              "</style>\n",
              "<table border=\"1\" class=\"dataframe\">\n",
              "  <thead>\n",
              "    <tr style=\"text-align: right;\">\n",
              "      <th></th>\n",
              "      <th>sentimen</th>\n",
              "      <th>narasi</th>\n",
              "    </tr>\n",
              "  </thead>\n",
              "  <tbody>\n",
              "    <tr>\n",
              "      <th>398</th>\n",
              "      <td>Netral</td>\n",
              "      <td>smoga mafiakopid19 lenyap beserta covid19nya</td>\n",
              "    </tr>\n",
              "    <tr>\n",
              "      <th>592</th>\n",
              "      <td>Positif</td>\n",
              "      <td>humas jogja pengumuman perpanjangan pemberlaku...</td>\n",
              "    </tr>\n",
              "    <tr>\n",
              "      <th>508</th>\n",
              "      <td>Positif</td>\n",
              "      <td>operasi yustisi prokes pengawasan ppkm mikro</td>\n",
              "    </tr>\n",
              "    <tr>\n",
              "      <th>30</th>\n",
              "      <td>Negatif</td>\n",
              "      <td>masyarakat melanggar psbb jakarta dimasukan pe...</td>\n",
              "    </tr>\n",
              "    <tr>\n",
              "      <th>535</th>\n",
              "      <td>Positif</td>\n",
              "      <td>ppkm mikro diperpanjang pemprov dki warga ruma...</td>\n",
              "    </tr>\n",
              "    <tr>\n",
              "      <th>57</th>\n",
              "      <td>Negatif</td>\n",
              "      <td>gaduh surabaya tolak ppkm emil dardak jamin be...</td>\n",
              "    </tr>\n",
              "    <tr>\n",
              "      <th>140</th>\n",
              "      <td>Negatif</td>\n",
              "      <td>pkl pedagang malioboro kompak tolak ppkm diper...</td>\n",
              "    </tr>\n",
              "    <tr>\n",
              "      <th>355</th>\n",
              "      <td>Netral</td>\n",
              "      <td>ppkm mikro diperpanjang pemprov dki warga rumah</td>\n",
              "    </tr>\n",
              "    <tr>\n",
              "      <th>417</th>\n",
              "      <td>Netral</td>\n",
              "      <td>terkendali variasi wna masuk indo beda perlaku...</td>\n",
              "    </tr>\n",
              "    <tr>\n",
              "      <th>598</th>\n",
              "      <td>Positif</td>\n",
              "      <td>humas jogja pengumuman perpanjangan pemberlaku...</td>\n",
              "    </tr>\n",
              "  </tbody>\n",
              "</table>\n",
              "</div>"
            ],
            "text/plain": [
              "    sentimen                                             narasi\n",
              "398   Netral       smoga mafiakopid19 lenyap beserta covid19nya\n",
              "592  Positif  humas jogja pengumuman perpanjangan pemberlaku...\n",
              "508  Positif       operasi yustisi prokes pengawasan ppkm mikro\n",
              "30   Negatif  masyarakat melanggar psbb jakarta dimasukan pe...\n",
              "535  Positif  ppkm mikro diperpanjang pemprov dki warga ruma...\n",
              "57   Negatif  gaduh surabaya tolak ppkm emil dardak jamin be...\n",
              "140  Negatif  pkl pedagang malioboro kompak tolak ppkm diper...\n",
              "355   Netral    ppkm mikro diperpanjang pemprov dki warga rumah\n",
              "417   Netral  terkendali variasi wna masuk indo beda perlaku...\n",
              "598  Positif  humas jogja pengumuman perpanjangan pemberlaku..."
            ]
          },
          "execution_count": 13,
          "metadata": {},
          "output_type": "execute_result"
        }
      ],
      "source": [
        "# aplikasikan fungsi ke fitur narasi\n",
        "ppkm['narasi'] = ppkm['narasi'].apply(lambda x: preprocess(x))\n",
        "ppkm.sample(10)"
      ]
    }
  ],
  "metadata": {
    "kaggle": {
      "accelerator": "none",
      "dataSources": [
        {
          "datasetId": 1215339,
          "sourceId": 2082093,
          "sourceType": "datasetVersion"
        }
      ],
      "dockerImageVersionId": 30579,
      "isGpuEnabled": false,
      "isInternetEnabled": true,
      "language": "python",
      "sourceType": "notebook"
    },
    "kernelspec": {
      "display_name": "Python 3",
      "language": "python",
      "name": "python3"
    },
    "language_info": {
      "codemirror_mode": {
        "name": "ipython",
        "version": 3
      },
      "file_extension": ".py",
      "mimetype": "text/x-python",
      "name": "python",
      "nbconvert_exporter": "python",
      "pygments_lexer": "ipython3",
      "version": "3.10.12"
    },
    "papermill": {
      "default_parameters": {},
      "duration": 57.674247,
      "end_time": "2023-11-15T05:54:23.977098",
      "environment_variables": {},
      "exception": null,
      "input_path": "__notebook__.ipynb",
      "output_path": "__notebook__.ipynb",
      "parameters": {},
      "start_time": "2023-11-15T05:53:26.302851",
      "version": "2.4.0"
    },
    "colab": {
      "provenance": [],
      "include_colab_link": true
    }
  },
  "nbformat": 4,
  "nbformat_minor": 5
}